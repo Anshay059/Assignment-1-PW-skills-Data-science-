{
 "cells": [
  {
   "cell_type": "code",
   "execution_count": 2,
   "id": "beabce57-9465-4250-b53a-670fd5e6156f",
   "metadata": {},
   "outputs": [
    {
     "name": "stdout",
     "output_type": "stream",
     "text": [
      "Anshay is a good guy\n",
      "<class 'str'>\n"
     ]
    }
   ],
   "source": [
    "#Q1. Create one variable containing following type of data:\n",
    "\n",
    "#1.) String :\n",
    "\n",
    "string=\"Anshay is a good guy\"\n",
    "print(string)\n",
    "print(type(string))"
   ]
  },
  {
   "cell_type": "code",
   "execution_count": 4,
   "id": "240368c0-aaa4-4c9e-8bae-8db67d579f73",
   "metadata": {},
   "outputs": [
    {
     "name": "stdout",
     "output_type": "stream",
     "text": [
      "24.55\n",
      "<class 'float'>\n"
     ]
    }
   ],
   "source": [
    "#2.) Float :\n",
    "\n",
    "float=24.55\n",
    "print(float)\n",
    "print(type(float))"
   ]
  },
  {
   "cell_type": "code",
   "execution_count": 5,
   "id": "eef08bf0-d991-46b9-9f51-40a4e406d162",
   "metadata": {},
   "outputs": [
    {
     "name": "stdout",
     "output_type": "stream",
     "text": [
      "[1, 2, 'Anshay', 23.77, False]\n",
      "<class 'list'>\n"
     ]
    }
   ],
   "source": [
    "#3.) List : \n",
    "\n",
    "l=[1, 2, \"Anshay\", 23.77, False]\n",
    "print(l)\n",
    "print(type(l))"
   ]
  },
  {
   "cell_type": "code",
   "execution_count": 5,
   "id": "96be636e-573c-4cf5-ac2a-66a1a8ea56db",
   "metadata": {},
   "outputs": [
    {
     "name": "stdout",
     "output_type": "stream",
     "text": [
      "[1, 2, 'Anshay', 23.77, False]\n",
      "<class 'list'>\n"
     ]
    }
   ],
   "source": [
    "#3.) List : \n",
    "\n",
    "l=[1, 2, \"Anshay\", 23.77, False]\n",
    "print(l)\n",
    "print(type(l))"
   ]
  },
  {
   "cell_type": "code",
   "execution_count": 5,
   "id": "343af6a2-9b0c-4a3e-b3b4-429ed8f687ac",
   "metadata": {},
   "outputs": [
    {
     "name": "stdout",
     "output_type": "stream",
     "text": [
      "[1, 2, 'Anshay', 23.77, False]\n",
      "<class 'list'>\n"
     ]
    }
   ],
   "source": [
    "#3.) List : \n",
    "\n",
    "l=[1, 2, \"Anshay\", 23.77, False]\n",
    "print(l)\n",
    "print(type(l))"
   ]
  },
  {
   "cell_type": "code",
   "execution_count": 5,
   "id": "90bb37ab-3f64-4089-8e8b-f3819eca9ba7",
   "metadata": {},
   "outputs": [
    {
     "name": "stdout",
     "output_type": "stream",
     "text": [
      "[1, 2, 'Anshay', 23.77, False]\n",
      "<class 'list'>\n"
     ]
    }
   ],
   "source": [
    "#3.) List : \n",
    "\n",
    "l=[1, 2, \"Anshay\", 23.77, False]\n",
    "print(l)\n",
    "print(type(l))"
   ]
  },
  {
   "cell_type": "code",
   "execution_count": 6,
   "id": "29a1351b-4aef-45fa-991a-5cdc266f4b87",
   "metadata": {},
   "outputs": [
    {
     "name": "stdout",
     "output_type": "stream",
     "text": [
      "('anshay', True, 2, 3.6, (3+8j), 5)\n",
      "<class 'tuple'>\n"
     ]
    }
   ],
   "source": [
    "#4.) Tuple : \n",
    "\n",
    "T=(\"anshay\", True, 2, 3.6, (3+8j), 5)\n",
    "print(T)\n",
    "print(type(T))"
   ]
  },
  {
   "cell_type": "code",
   "execution_count": 15,
   "id": "6dd3e89b-690a-4398-9c61-071d9f870b43",
   "metadata": {},
   "outputs": [
    {
     "name": "stdout",
     "output_type": "stream",
     "text": [
      "<class 'str'>\n"
     ]
    }
   ],
   "source": [
    "#Q2. Given are some following variables containing data:\n",
    "\n",
    "#1.) \n",
    "\n",
    "var1 = ' '\n",
    "print(type(var1))"
   ]
  },
  {
   "cell_type": "code",
   "execution_count": 17,
   "id": "5d4a6516-0a99-4e6c-915b-ec69a95bbefe",
   "metadata": {},
   "outputs": [
    {
     "name": "stdout",
     "output_type": "stream",
     "text": [
      "<class 'str'>\n"
     ]
    }
   ],
   "source": [
    "#2.) \n",
    "\n",
    "var2 = '[ DS , ML , Python]'\n",
    "print(type(var2))\n"
   ]
  },
  {
   "cell_type": "code",
   "execution_count": 18,
   "id": "ed5f475f-b519-4bd9-a560-922db0e1acbe",
   "metadata": {},
   "outputs": [
    {
     "name": "stdout",
     "output_type": "stream",
     "text": [
      "<class 'list'>\n"
     ]
    }
   ],
   "source": [
    "#3.) \n",
    "\n",
    "var3 = [ 'DS' , 'ML' , 'Python' ]\n",
    "print(type(var3))"
   ]
  },
  {
   "cell_type": "code",
   "execution_count": 19,
   "id": "990c3a1c-0479-45f3-8c64-5e7afba6bd9b",
   "metadata": {},
   "outputs": [
    {
     "name": "stdout",
     "output_type": "stream",
     "text": [
      "<class 'float'>\n"
     ]
    }
   ],
   "source": [
    "#4.)\n",
    "\n",
    "var4 = 1.\n",
    "print(type(var4))\n"
   ]
  },
  {
   "cell_type": "code",
   "execution_count": 20,
   "id": "1a5f2f9f-fdbb-45ed-9e1b-44a776a1627f",
   "metadata": {},
   "outputs": [
    {
     "name": "stdout",
     "output_type": "stream",
     "text": [
      "18.0\n"
     ]
    }
   ],
   "source": [
    "#Q3. Explain the use of the following operators using an example:\n",
    "\n",
    "#1.) The below operator will divide 54 by 3.\n",
    "\n",
    "a=54/3\n",
    "print(a)"
   ]
  },
  {
   "cell_type": "code",
   "execution_count": 21,
   "id": "38b9f201-5157-415f-9a2b-d39c36e3a2f5",
   "metadata": {},
   "outputs": [
    {
     "name": "stdout",
     "output_type": "stream",
     "text": [
      "5\n"
     ]
    }
   ],
   "source": [
    "#2.) The below operator will give the remainder when 47 is divided by 7.\n",
    "\n",
    "b=47%7\n",
    "print(b)"
   ]
  },
  {
   "cell_type": "code",
   "execution_count": 22,
   "id": "6a256319-87af-4cbf-8b42-4340db86fb30",
   "metadata": {},
   "outputs": [
    {
     "name": "stdout",
     "output_type": "stream",
     "text": [
      "7\n"
     ]
    }
   ],
   "source": [
    "#3.) The below operator will give quotient when 47 is divided by 6.\n",
    "\n",
    "c=47//6\n",
    "print(c)"
   ]
  },
  {
   "cell_type": "code",
   "execution_count": 23,
   "id": "ae3d4e87-763f-495f-a6bb-e6c9a230bf03",
   "metadata": {},
   "outputs": [
    {
     "name": "stdout",
     "output_type": "stream",
     "text": [
      "16\n"
     ]
    }
   ],
   "source": [
    "#4.) The below operator will multiply 2 by 2, 4 times.\n",
    "\n",
    "d=2**4\n",
    "print(d)"
   ]
  },
  {
   "cell_type": "code",
   "execution_count": 24,
   "id": "134e8b57-a786-4ac2-a0d0-f39e5370bb67",
   "metadata": {},
   "outputs": [
    {
     "name": "stdout",
     "output_type": "stream",
     "text": [
      "1\n",
      "<class 'int'>\n",
      "2\n",
      "<class 'int'>\n",
      "3\n",
      "<class 'int'>\n",
      "Anshay\n",
      "<class 'str'>\n",
      "True\n",
      "<class 'bool'>\n",
      "(3+5j)\n",
      "<class 'complex'>\n",
      "33.65\n",
      "<class 'float'>\n",
      "4\n",
      "<class 'int'>\n",
      "False\n",
      "<class 'bool'>\n",
      "Hello\n",
      "<class 'str'>\n"
     ]
    }
   ],
   "source": [
    "#Q4. Create a list of length 10 of your choice containing multiple types of data. Using for loop print the\n",
    "#element and its data type.\n",
    "\n",
    "A=[1, 2, 3, \"Anshay\", True, (3+5j), 33.65, 4, False, \"Hello\"]\n",
    "for i in A:\n",
    "    print(i)\n",
    "    print(type(i))\n"
   ]
  },
  {
   "cell_type": "code",
   "execution_count": 62,
   "id": "3ecbf118-4d8f-40d9-9401-83c04775d4ed",
   "metadata": {},
   "outputs": [
    {
     "name": "stdin",
     "output_type": "stream",
     "text": [
      " 66\n",
      " 3\n"
     ]
    },
    {
     "name": "stdout",
     "output_type": "stream",
     "text": [
      "it is divisible\n",
      "22 times it is divisible\n"
     ]
    }
   ],
   "source": [
    "#Q5. Using a while loop, verify if the number A is purely divisible by number B and if so then how many\n",
    "#times it can be divisible.\n",
    "\n",
    "A=int(input())\n",
    "B=int(input())\n",
    "\n",
    "\n",
    "while A>=B:\n",
    "    if A%B==0:\n",
    "        print(\"it is divisible\")\n",
    "        C=A//B\n",
    "        print(C, \"times it is divisible\")\n",
    "        break\n",
    "    else:\n",
    "        print(\"not divisible\")\n",
    "        break\n",
    "            \n",
    "    \n",
    "    \n",
    "    \n",
    " "
   ]
  },
  {
   "cell_type": "code",
   "execution_count": 63,
   "id": "8412041f-c4cf-40b7-8caf-77cf97fcfeb4",
   "metadata": {},
   "outputs": [
    {
     "name": "stdout",
     "output_type": "stream",
     "text": [
      "6\n",
      "33\n",
      "99\n",
      "9\n",
      "102\n",
      "69\n",
      "12\n",
      "72\n",
      "39\n"
     ]
    }
   ],
   "source": [
    "#Q6. Create a list containing 25 int type data. Using for loop and if-else condition print if the element is\n",
    "#divisible by 3 or not.\n",
    "\n",
    "A=[1, 2, 5, 6, 33, 44, 76, 43, 99, 9, 32, 28, 56, 88, 102, 100, 69, 12, 13, 72, 25, 23, 59, 7, 39]\n",
    "for i in A :\n",
    "    if i%3==0 :\n",
    "        print(i)"
   ]
  },
  {
   "cell_type": "code",
   "execution_count": 64,
   "id": "1b860bfc-9a6b-4f5f-90c7-49b12b749046",
   "metadata": {},
   "outputs": [
    {
     "name": "stdout",
     "output_type": "stream",
     "text": [
      "33\n",
      "[1, 2, 55, 33, 22.57, (2+3j)]\n"
     ]
    }
   ],
   "source": [
    "#Q7. What do you understand about mutable and immutable data types? Give examples for both showing\n",
    "#this property.\n",
    "\n",
    "# case 1 (mutable) : \n",
    "\n",
    "S=[1, 2, 55, True, 22.57, (2+3j)]\n",
    "S[3]=33\n",
    "print(S[3])\n",
    "print(S)\n",
    "\n",
    "# In above example we can replace elemnts of the list by the concept of mutability (possible only in lists).\n"
   ]
  },
  {
   "cell_type": "code",
   "execution_count": 65,
   "id": "2e79ac8f-6ba1-46ec-99a6-91f7ddcac0ba",
   "metadata": {},
   "outputs": [
    {
     "ename": "NameError",
     "evalue": "name 'k' is not defined",
     "output_type": "error",
     "traceback": [
      "\u001b[0;31m---------------------------------------------------------------------------\u001b[0m",
      "\u001b[0;31mNameError\u001b[0m                                 Traceback (most recent call last)",
      "Cell \u001b[0;32mIn[65], line 4\u001b[0m\n\u001b[1;32m      1\u001b[0m \u001b[38;5;66;03m# case 2 (immutable) :\u001b[39;00m\n\u001b[1;32m      3\u001b[0m S\u001b[38;5;241m=\u001b[39m\u001b[38;5;124m\"\u001b[39m\u001b[38;5;124mAnshay\u001b[39m\u001b[38;5;124m\"\u001b[39m\n\u001b[0;32m----> 4\u001b[0m S[\u001b[38;5;241m1\u001b[39m]\u001b[38;5;241m=\u001b[39m\u001b[43mk\u001b[49m\n\u001b[1;32m      5\u001b[0m \u001b[38;5;28mprint\u001b[39m(S[\u001b[38;5;241m1\u001b[39m])\n\u001b[1;32m      6\u001b[0m \u001b[38;5;28mprint\u001b[39m(S)\n",
      "\u001b[0;31mNameError\u001b[0m: name 'k' is not defined"
     ]
    }
   ],
   "source": [
    "# case 2 (immutable) :\n",
    "\n",
    "S=\"Anshay\"\n",
    "S[1]=k\n",
    "print(S[1])\n",
    "print(S)"
   ]
  },
  {
   "cell_type": "code",
   "execution_count": null,
   "id": "2299e186-b755-422b-93cb-d5f7938623ee",
   "metadata": {},
   "outputs": [],
   "source": [
    "# Above error is showing because we cannot replace elements in a string using the concept of mutability. Hence, it is immutable."
   ]
  }
 ],
 "metadata": {
  "kernelspec": {
   "display_name": "Python 3 (ipykernel)",
   "language": "python",
   "name": "python3"
  },
  "language_info": {
   "codemirror_mode": {
    "name": "ipython",
    "version": 3
   },
   "file_extension": ".py",
   "mimetype": "text/x-python",
   "name": "python",
   "nbconvert_exporter": "python",
   "pygments_lexer": "ipython3",
   "version": "3.10.8"
  },
  "toc-autonumbering": true,
  "toc-showcode": false,
  "toc-showmarkdowntxt": false,
  "toc-showtags": false
 },
 "nbformat": 4,
 "nbformat_minor": 5
}
