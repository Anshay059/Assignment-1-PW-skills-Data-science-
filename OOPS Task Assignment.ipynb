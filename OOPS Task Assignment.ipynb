{
 "cells": [
  {
   "cell_type": "code",
   "execution_count": 1,
   "id": "41730025-5cd7-42ba-bb3d-9c08c9ffe8ff",
   "metadata": {},
   "outputs": [
    {
     "data": {
      "text/plain": [
       "' Q1, Create a vehicle class with an init method having instance variables as name_of_vehicle, max_speed\\nand average_of_vehicle. '"
      ]
     },
     "execution_count": 1,
     "metadata": {},
     "output_type": "execute_result"
    }
   ],
   "source": [
    "\"\"\" Q1, Create a vehicle class with an init method having instance variables as name_of_vehicle, max_speed\n",
    "and average_of_vehicle. \"\"\""
   ]
  },
  {
   "cell_type": "code",
   "execution_count": 5,
   "id": "3aac5001-31cc-49aa-aa2b-8b52810d3378",
   "metadata": {},
   "outputs": [],
   "source": [
    "class vehicle:\n",
    "    def __init__(self, name_of_vehicle, max_speed, average_of_vehicle):\n",
    "        self.name_of_vehicle=name_of_vehicle\n",
    "        self.max_speed=max_speed\n",
    "        self.average_of_vehicle=average_of_vehicle\n",
    "    def return_details_of_vehicle(self):\n",
    "        return self.average_of_vehicle, self.max_speed, self.name_of_vehicle"
   ]
  },
  {
   "cell_type": "code",
   "execution_count": 6,
   "id": "b2cdeac4-9040-4648-9e55-92e5deb1b999",
   "metadata": {},
   "outputs": [],
   "source": [
    "Anshay_has=vehicle(\"Elantra\", 240, \"15 km/L\")"
   ]
  },
  {
   "cell_type": "code",
   "execution_count": 7,
   "id": "cf4112d9-1dba-41d7-a960-4b10aba5e188",
   "metadata": {},
   "outputs": [
    {
     "data": {
      "text/plain": [
       "('15 km/L', 240, 'Elantra')"
      ]
     },
     "execution_count": 7,
     "metadata": {},
     "output_type": "execute_result"
    }
   ],
   "source": [
    "Anshay_has.return_details_of_vehicle()"
   ]
  },
  {
   "cell_type": "code",
   "execution_count": 9,
   "id": "18c7d70e-4b8e-4b4b-9a3f-ca48997b953b",
   "metadata": {},
   "outputs": [
    {
     "data": {
      "text/plain": [
       "'Elantra'"
      ]
     },
     "execution_count": 9,
     "metadata": {},
     "output_type": "execute_result"
    }
   ],
   "source": [
    "Anshay_has.name_of_vehicle"
   ]
  },
  {
   "cell_type": "code",
   "execution_count": 12,
   "id": "2a96302e-b809-488d-acfa-0799934ff920",
   "metadata": {},
   "outputs": [
    {
     "data": {
      "text/plain": [
       "' Q2. Create a child class car from the vehicle class created in Que 1, which will inherit the vehicle class.\\nCreate a method named seating_capacity which takes capacity as an argument and returns the name of\\nthe vehicle and its seating capacity.'"
      ]
     },
     "execution_count": 12,
     "metadata": {},
     "output_type": "execute_result"
    }
   ],
   "source": [
    "\"\"\" Q2. Create a child class car from the vehicle class created in Que 1, which will inherit the vehicle class.\n",
    "Create a method named seating_capacity which takes capacity as an argument and returns the name of\n",
    "the vehicle and its seating capacity.\"\"\""
   ]
  },
  {
   "cell_type": "code",
   "execution_count": 36,
   "id": "cdbffd6a-c19a-4a33-a7d6-9e9f233f1e1f",
   "metadata": {},
   "outputs": [],
   "source": [
    "class child_class(vehicle):\n",
    "    def __init__(self, seating_capacity):\n",
    "        self.seating_capacity=seating_capacity\n",
    "    def return_info(self):\n",
    "        return self.seating_capacity,Anshay_has.name_of_vehicle"
   ]
  },
  {
   "cell_type": "code",
   "execution_count": 37,
   "id": "34fe4730-4041-456e-b910-33010cd40841",
   "metadata": {},
   "outputs": [],
   "source": [
    "A=child_class(5)"
   ]
  },
  {
   "cell_type": "code",
   "execution_count": 38,
   "id": "145953a6-9f9f-4671-940b-d81a73766845",
   "metadata": {},
   "outputs": [
    {
     "data": {
      "text/plain": [
       "(5, 'Elantra')"
      ]
     },
     "execution_count": 38,
     "metadata": {},
     "output_type": "execute_result"
    }
   ],
   "source": [
    "A.return_info()"
   ]
  },
  {
   "cell_type": "code",
   "execution_count": 39,
   "id": "ab1fbaf6-6b2c-4e86-91d3-cf8021a3a44e",
   "metadata": {},
   "outputs": [
    {
     "data": {
      "text/plain": [
       "' Q3. What is multiple inheritance? Write a python code to demonstrate multiple inheritance.'"
      ]
     },
     "execution_count": 39,
     "metadata": {},
     "output_type": "execute_result"
    }
   ],
   "source": [
    "\"\"\" Q3. What is multiple inheritance? Write a python code to demonstrate multiple inheritance.\"\"\""
   ]
  },
  {
   "cell_type": "code",
   "execution_count": 40,
   "id": "4b700fe7-9026-44dd-b489-9aeac9de6d2b",
   "metadata": {},
   "outputs": [
    {
     "data": {
      "text/plain": [
       "' Multiple inheritance is when one class inherits the traits from two different classes\\nFor example: '"
      ]
     },
     "execution_count": 40,
     "metadata": {},
     "output_type": "execute_result"
    }
   ],
   "source": [
    "\"\"\" Multiple inheritance is when one class inherits the traits from two or more different classes.\n",
    "For example: \"\"\""
   ]
  },
  {
   "cell_type": "code",
   "execution_count": 41,
   "id": "26258d5e-3611-4492-8da2-028f00071244",
   "metadata": {},
   "outputs": [],
   "source": [
    "class class1:\n",
    "    def test1(self):\n",
    "        return \"On monday\""
   ]
  },
  {
   "cell_type": "code",
   "execution_count": 42,
   "id": "954639c1-c565-4547-b87c-b81496bf04f0",
   "metadata": {},
   "outputs": [],
   "source": [
    "class class2:\n",
    "    def test2(self):\n",
    "        return \"On thursday\""
   ]
  },
  {
   "cell_type": "code",
   "execution_count": 44,
   "id": "2380ea3f-efc1-44fe-ba05-368f89efd08f",
   "metadata": {},
   "outputs": [],
   "source": [
    "class class3:\n",
    "    def test3(self):\n",
    "        return \"On sunday\""
   ]
  },
  {
   "cell_type": "code",
   "execution_count": 45,
   "id": "fb562d33-9671-4734-8e14-bc1c0633de21",
   "metadata": {},
   "outputs": [],
   "source": [
    "class class4(class1, class2, class3):\n",
    "    pass"
   ]
  },
  {
   "cell_type": "code",
   "execution_count": 46,
   "id": "1a463669-0d04-48f3-aaf9-dc8577c65a10",
   "metadata": {},
   "outputs": [],
   "source": [
    "obj_class4=class4()"
   ]
  },
  {
   "cell_type": "code",
   "execution_count": 47,
   "id": "463bf927-6ba9-4843-8e60-521155d5d5be",
   "metadata": {},
   "outputs": [
    {
     "data": {
      "text/plain": [
       "'On thursday'"
      ]
     },
     "execution_count": 47,
     "metadata": {},
     "output_type": "execute_result"
    }
   ],
   "source": [
    "obj_class4.test2()"
   ]
  },
  {
   "cell_type": "code",
   "execution_count": 48,
   "id": "ebdd6d35-4d50-487d-b9fb-8cc984eb7833",
   "metadata": {},
   "outputs": [
    {
     "data": {
      "text/plain": [
       "'On monday'"
      ]
     },
     "execution_count": 48,
     "metadata": {},
     "output_type": "execute_result"
    }
   ],
   "source": [
    "obj_class4.test1()"
   ]
  },
  {
   "cell_type": "code",
   "execution_count": 49,
   "id": "bf22a842-a86c-45b8-b390-06e0caf326e3",
   "metadata": {},
   "outputs": [
    {
     "data": {
      "text/plain": [
       "'On sunday'"
      ]
     },
     "execution_count": 49,
     "metadata": {},
     "output_type": "execute_result"
    }
   ],
   "source": [
    "obj_class4.test3()"
   ]
  },
  {
   "cell_type": "code",
   "execution_count": 50,
   "id": "73f926f9-5229-46ef-8394-55152619f604",
   "metadata": {},
   "outputs": [
    {
     "data": {
      "text/plain": [
       "' Q4. What are getter and setter in python? Create a class and create a getter and a setter method in this\\nclass. '"
      ]
     },
     "execution_count": 50,
     "metadata": {},
     "output_type": "execute_result"
    }
   ],
   "source": [
    "\"\"\" Q4. What are getter and setter in python? Create a class and create a getter and a setter method in this\n",
    "class. \"\"\""
   ]
  },
  {
   "cell_type": "code",
   "execution_count": 51,
   "id": "14c83a01-1ebd-4212-8e95-1246ff7b0919",
   "metadata": {},
   "outputs": [
    {
     "data": {
      "text/plain": [
       "\" Getter and setter methods are used in python in encapsulation when we don't let user to directly access the encapsulated method.\""
      ]
     },
     "execution_count": 51,
     "metadata": {},
     "output_type": "execute_result"
    }
   ],
   "source": [
    "\"\"\" Getter and setter methods are used in python in encapsulation when we don't let user to directly access the encapsulated method.\"\"\"\n"
   ]
  },
  {
   "cell_type": "code",
   "execution_count": 52,
   "id": "d87d8582-ea7f-4212-8f6f-e0537d07059b",
   "metadata": {},
   "outputs": [],
   "source": [
    "# For example:"
   ]
  },
  {
   "cell_type": "code",
   "execution_count": 62,
   "id": "c46ac59d-9839-49c1-93ea-3a5a63a5271e",
   "metadata": {},
   "outputs": [],
   "source": [
    "class Phone:\n",
    "    def __init__(self, model, colour, phone_no):\n",
    "        self.__model=model\n",
    "        self.__colour=colour\n",
    "        self.__phone_no=phone_no\n",
    "    def return_details(self):\n",
    "        return self.__model, self.__colour, self.__phone_no\n",
    "    def  set_model(self,model):\n",
    "        self.__model=model\n",
    "    def  get_model(self):\n",
    "        return self.__model"
   ]
  },
  {
   "cell_type": "code",
   "execution_count": 63,
   "id": "32166c15-d953-4b32-bc02-f3f2a7a0fa8e",
   "metadata": {},
   "outputs": [],
   "source": [
    "phone_1=Phone(\"iphone 15\", \"black\", 123456789)"
   ]
  },
  {
   "cell_type": "code",
   "execution_count": 64,
   "id": "ee8b43d2-5cf7-4bbc-95b1-a6b4ae4b6218",
   "metadata": {},
   "outputs": [
    {
     "data": {
      "text/plain": [
       "('iphone 15', 'black', 123456789)"
      ]
     },
     "execution_count": 64,
     "metadata": {},
     "output_type": "execute_result"
    }
   ],
   "source": [
    "phone_1.return_details()"
   ]
  },
  {
   "cell_type": "code",
   "execution_count": 65,
   "id": "ab5834f7-dd82-424d-9ff8-3b22cd849f7a",
   "metadata": {},
   "outputs": [],
   "source": [
    "phone_1.set_model(\"samsung s23 ultra\")"
   ]
  },
  {
   "cell_type": "code",
   "execution_count": 66,
   "id": "dfd12412-a5c4-4e6c-87ac-419aaedf6cd0",
   "metadata": {},
   "outputs": [
    {
     "data": {
      "text/plain": [
       "'samsung s23 ultra'"
      ]
     },
     "execution_count": 66,
     "metadata": {},
     "output_type": "execute_result"
    }
   ],
   "source": [
    "phone_1.get_model()"
   ]
  },
  {
   "cell_type": "code",
   "execution_count": 67,
   "id": "a0f64a96-d6d0-42db-b0b6-7ccc6f95b501",
   "metadata": {},
   "outputs": [
    {
     "data": {
      "text/plain": [
       "('samsung s23 ultra', 'black', 123456789)"
      ]
     },
     "execution_count": 67,
     "metadata": {},
     "output_type": "execute_result"
    }
   ],
   "source": [
    "phone_1.return_details()"
   ]
  },
  {
   "cell_type": "code",
   "execution_count": 68,
   "id": "61934b2c-6531-4d1f-9ea3-0b6527a2b8a7",
   "metadata": {},
   "outputs": [
    {
     "data": {
      "text/plain": [
       "' Q5.What is method overriding in python? Write a python code to demonstrate method overriding. '"
      ]
     },
     "execution_count": 68,
     "metadata": {},
     "output_type": "execute_result"
    }
   ],
   "source": [
    "\"\"\" Q5.What is method overriding in python? Write a python code to demonstrate method overriding. \"\"\""
   ]
  },
  {
   "cell_type": "code",
   "execution_count": 70,
   "id": "4656f171-cb40-486c-b0bd-7208b331b4e7",
   "metadata": {},
   "outputs": [],
   "source": [
    "# method overriding is a feature in OOPS which helps us to change the functionality of a method in subclass ( different from superclass)"
   ]
  },
  {
   "cell_type": "code",
   "execution_count": 71,
   "id": "8aa5b38a-fc97-4c28-8f77-c4b01495ae61",
   "metadata": {},
   "outputs": [],
   "source": [
    "# For example:\n"
   ]
  },
  {
   "cell_type": "code",
   "execution_count": 72,
   "id": "aa42f191-6a87-4ca7-be9e-9a1cc7a307f4",
   "metadata": {},
   "outputs": [],
   "source": [
    "class Anshay_friend:\n",
    "    def friend(self):\n",
    "        return \"Khushi\"\n",
    "        "
   ]
  },
  {
   "cell_type": "code",
   "execution_count": 73,
   "id": "5a3212a3-fab9-41ba-b0d8-fbe96fefe832",
   "metadata": {},
   "outputs": [],
   "source": [
    "class Khushi_friend(Anshay_friend):\n",
    "    def friend(self):\n",
    "        return \"Krati\""
   ]
  },
  {
   "cell_type": "code",
   "execution_count": 74,
   "id": "405c4891-a764-4c4d-b75d-27ad8f4518b7",
   "metadata": {},
   "outputs": [],
   "source": [
    "class Krati_friend(Anshay_friend):\n",
    "    def friend(self):\n",
    "        return \"Aryan\""
   ]
  },
  {
   "cell_type": "code",
   "execution_count": 75,
   "id": "20d0ef5f-e7af-49da-852f-b9dff4095b31",
   "metadata": {},
   "outputs": [],
   "source": [
    "Anshay_friend=Anshay_friend()"
   ]
  },
  {
   "cell_type": "code",
   "execution_count": 76,
   "id": "6c5653b7-de33-4326-9d6d-610c440707db",
   "metadata": {},
   "outputs": [
    {
     "data": {
      "text/plain": [
       "'Khushi'"
      ]
     },
     "execution_count": 76,
     "metadata": {},
     "output_type": "execute_result"
    }
   ],
   "source": [
    "Anshay_friend.friend()"
   ]
  },
  {
   "cell_type": "code",
   "execution_count": 77,
   "id": "c6e0be22-670e-4040-bfa3-01d9883202aa",
   "metadata": {},
   "outputs": [],
   "source": [
    "Khushi_friend=Khushi_friend()"
   ]
  },
  {
   "cell_type": "code",
   "execution_count": 78,
   "id": "39b933c6-74df-44da-9421-8febb733d4d2",
   "metadata": {},
   "outputs": [
    {
     "data": {
      "text/plain": [
       "'Krati'"
      ]
     },
     "execution_count": 78,
     "metadata": {},
     "output_type": "execute_result"
    }
   ],
   "source": [
    "Khushi_friend.friend()"
   ]
  },
  {
   "cell_type": "code",
   "execution_count": 79,
   "id": "ebffac4a-5e68-46a8-8bc5-eadfcb4a93f0",
   "metadata": {},
   "outputs": [],
   "source": [
    "Krati_friend=Krati_friend()"
   ]
  },
  {
   "cell_type": "code",
   "execution_count": 80,
   "id": "b009964c-debb-41d5-8628-2aef634181ab",
   "metadata": {},
   "outputs": [
    {
     "data": {
      "text/plain": [
       "'Aryan'"
      ]
     },
     "execution_count": 80,
     "metadata": {},
     "output_type": "execute_result"
    }
   ],
   "source": [
    "Krati_friend.friend()"
   ]
  },
  {
   "cell_type": "code",
   "execution_count": null,
   "id": "56405b42-015d-49bd-8c7e-caa3f09df5e1",
   "metadata": {},
   "outputs": [],
   "source": []
  }
 ],
 "metadata": {
  "kernelspec": {
   "display_name": "Python 3 (ipykernel)",
   "language": "python",
   "name": "python3"
  },
  "language_info": {
   "codemirror_mode": {
    "name": "ipython",
    "version": 3
   },
   "file_extension": ".py",
   "mimetype": "text/x-python",
   "name": "python",
   "nbconvert_exporter": "python",
   "pygments_lexer": "ipython3",
   "version": "3.10.8"
  }
 },
 "nbformat": 4,
 "nbformat_minor": 5
}
