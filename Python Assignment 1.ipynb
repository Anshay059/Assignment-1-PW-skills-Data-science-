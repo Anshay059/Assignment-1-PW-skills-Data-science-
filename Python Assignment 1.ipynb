{
 "cells": [
  {
   "cell_type": "code",
   "execution_count": 18,
   "id": "a727c74c-b913-4a0c-9753-d578257d0347",
   "metadata": {},
   "outputs": [
    {
     "data": {
      "text/plain": [
       "[1,\n",
       " 2,\n",
       " 3,\n",
       " 4,\n",
       " 5,\n",
       " 6,\n",
       " 7,\n",
       " 8,\n",
       " 9,\n",
       " 10,\n",
       " 11,\n",
       " 12,\n",
       " 13,\n",
       " 14,\n",
       " 15,\n",
       " 16,\n",
       " 17,\n",
       " 18,\n",
       " 19,\n",
       " 20,\n",
       " 21,\n",
       " 22,\n",
       " 23,\n",
       " 24,\n",
       " 25]"
      ]
     },
     "execution_count": 18,
     "metadata": {},
     "output_type": "execute_result"
    }
   ],
   "source": [
    "#Q1. Which keyword is used to create a function? Create a function to return a list of odd numbers in the\n",
    "#range of 1 to 25.\n",
    "\n",
    "# def keyword is used to create a function.\n",
    "\n",
    "l1=list(range(1,26))\n",
    "l1"
   ]
  },
  {
   "cell_type": "code",
   "execution_count": 25,
   "id": "136803af-135b-4215-b40b-a97781e8d61a",
   "metadata": {},
   "outputs": [],
   "source": [
    "def test1(l1):\n",
    "    l2=[]\n",
    "    for i in l1:\n",
    "        if i%2!=0 :\n",
    "            l2.append(i)\n",
    "    return l2       \n",
    "            \n"
   ]
  },
  {
   "cell_type": "code",
   "execution_count": 26,
   "id": "c7a67242-176e-461b-a094-029c43b7f9f7",
   "metadata": {},
   "outputs": [
    {
     "data": {
      "text/plain": [
       "[1, 3, 5, 7, 9, 11, 13, 15, 17, 19, 21, 23, 25]"
      ]
     },
     "execution_count": 26,
     "metadata": {},
     "output_type": "execute_result"
    }
   ],
   "source": [
    "test1(l1)"
   ]
  },
  {
   "cell_type": "code",
   "execution_count": 28,
   "id": "017e84a0-0eac-4293-8163-7d922e4d4e6b",
   "metadata": {},
   "outputs": [],
   "source": [
    "# Q2. Why *args and **kwargs is used in some functions? Create a function each for *args and **kwargs\n",
    "# to demonstrate their use.\n",
    "\n",
    "# *args is used in a function to take input as anything (like numeric values, strings, lists, tuples, etc.) and to give output of all the things \n",
    "# in argument as tuple. For example:\n",
    "\n",
    "def test2(*args):\n",
    "    return args\n",
    "\n"
   ]
  },
  {
   "cell_type": "code",
   "execution_count": 29,
   "id": "4e7b596d-c806-4624-87ee-5b19ae5b6ea4",
   "metadata": {},
   "outputs": [
    {
     "data": {
      "text/plain": [
       "(1, 2, 3, 'Anshay', [1, 2, 3, 4])"
      ]
     },
     "execution_count": 29,
     "metadata": {},
     "output_type": "execute_result"
    }
   ],
   "source": [
    "test2(1,2,3,\"Anshay\",[1,2,3,4])"
   ]
  },
  {
   "cell_type": "code",
   "execution_count": 32,
   "id": "a91a25e4-c7d7-4821-9842-9a2bc08abcf5",
   "metadata": {},
   "outputs": [],
   "source": [
    "def test3(*args,a):\n",
    "    return args,a"
   ]
  },
  {
   "cell_type": "code",
   "execution_count": 34,
   "id": "fd9ebb8e-c550-45f7-9b5f-c891d23d755e",
   "metadata": {},
   "outputs": [
    {
     "data": {
      "text/plain": [
       "((1, 2, 3, 4), 12)"
      ]
     },
     "execution_count": 34,
     "metadata": {},
     "output_type": "execute_result"
    }
   ],
   "source": [
    "test3(1,2,3,4,a=12)"
   ]
  },
  {
   "cell_type": "code",
   "execution_count": 36,
   "id": "39e71af0-5333-4d88-add0-8cba67b536c7",
   "metadata": {},
   "outputs": [],
   "source": [
    "# **kwargs is used in a function to take take input as variables with its values and to give output of all the things as dictionary.\n",
    "# For example :\n",
    "\n",
    "def test4(**kwargs):\n",
    "    return kwargs"
   ]
  },
  {
   "cell_type": "code",
   "execution_count": 37,
   "id": "7b2e0db7-3158-4992-b985-82f34a1d9652",
   "metadata": {},
   "outputs": [
    {
     "data": {
      "text/plain": [
       "{'a': 12, 'b': 33, 'c': 'anshay', 'd': 22.4}"
      ]
     },
     "execution_count": 37,
     "metadata": {},
     "output_type": "execute_result"
    }
   ],
   "source": [
    "test4(a=12,b=33,c=\"anshay\",d=22.4)"
   ]
  },
  {
   "cell_type": "code",
   "execution_count": 38,
   "id": "29e679c6-ca76-48b9-ba80-4d4ddc2ba888",
   "metadata": {},
   "outputs": [],
   "source": [
    "\"\"\" Q3. What is an iterator in python? Name the method used to initialise the iterator object and the method\n",
    "used for iteration. Use these methods to print the first five elements of the given list [2, 4, 6, 8, 10, 12, 14,\n",
    "16, 18, 20]. \"\"\"\n",
    "\n",
    "# An iterator is an object in python with countable number of values of variables we created.\n",
    "# It has two methods iter(), next().\n",
    "\n",
    "l3=[2,4,6,8,10,12,14,16,18,20]"
   ]
  },
  {
   "cell_type": "code",
   "execution_count": 39,
   "id": "1d73cdc0-a617-4b40-8477-57fa275b4133",
   "metadata": {},
   "outputs": [
    {
     "data": {
      "text/plain": [
       "[2, 4, 6, 8, 10, 12, 14, 16, 18, 20]"
      ]
     },
     "execution_count": 39,
     "metadata": {},
     "output_type": "execute_result"
    }
   ],
   "source": [
    "l3"
   ]
  },
  {
   "cell_type": "code",
   "execution_count": 133,
   "id": "1f9c88af-82da-4862-8e7f-2c8b56c66f66",
   "metadata": {},
   "outputs": [],
   "source": [
    "s1=iter(l3)"
   ]
  },
  {
   "cell_type": "code",
   "execution_count": 134,
   "id": "a896b403-f6d2-4ade-a717-8c22e828ccee",
   "metadata": {},
   "outputs": [
    {
     "data": {
      "text/plain": [
       "2"
      ]
     },
     "execution_count": 134,
     "metadata": {},
     "output_type": "execute_result"
    }
   ],
   "source": [
    "next(s1)"
   ]
  },
  {
   "cell_type": "code",
   "execution_count": 135,
   "id": "4a6096ab-d111-4610-bdf8-a0d6cdf833dd",
   "metadata": {},
   "outputs": [
    {
     "data": {
      "text/plain": [
       "4"
      ]
     },
     "execution_count": 135,
     "metadata": {},
     "output_type": "execute_result"
    }
   ],
   "source": [
    "next(s1)\n"
   ]
  },
  {
   "cell_type": "code",
   "execution_count": 136,
   "id": "d0c01174-4d87-4e66-aac0-71f579d335b6",
   "metadata": {},
   "outputs": [
    {
     "data": {
      "text/plain": [
       "6"
      ]
     },
     "execution_count": 136,
     "metadata": {},
     "output_type": "execute_result"
    }
   ],
   "source": [
    "next(s1)"
   ]
  },
  {
   "cell_type": "code",
   "execution_count": 137,
   "id": "35cafb6a-2b2c-4325-9b26-a495e9236e7c",
   "metadata": {},
   "outputs": [
    {
     "data": {
      "text/plain": [
       "8"
      ]
     },
     "execution_count": 137,
     "metadata": {},
     "output_type": "execute_result"
    }
   ],
   "source": [
    "next(s1)"
   ]
  },
  {
   "cell_type": "code",
   "execution_count": 138,
   "id": "113615d2-f90a-437b-9014-d0c7a333410c",
   "metadata": {},
   "outputs": [
    {
     "data": {
      "text/plain": [
       "10"
      ]
     },
     "execution_count": 138,
     "metadata": {},
     "output_type": "execute_result"
    }
   ],
   "source": [
    "next(s1)"
   ]
  },
  {
   "cell_type": "code",
   "execution_count": 149,
   "id": "1bd22329-b615-4d0e-a654-02e807464d0c",
   "metadata": {},
   "outputs": [],
   "source": [
    "# Q4. What is a generator function in python? Why yield keyword is used? Give an example of a generator\n",
    "# function.\n",
    "\n",
    "# generator function in python is used to generate output of the given input without saving each data in the memory first.\n",
    "# It saves memory and consumes less power of the cpu. Yield keyword is used to create generator function.\n",
    "# For example:\n",
    "\n",
    "l3=list(range(25))"
   ]
  },
  {
   "cell_type": "code",
   "execution_count": 150,
   "id": "2e0af6be-0a2a-4ec7-ba03-c54e4dbee7ae",
   "metadata": {},
   "outputs": [
    {
     "data": {
      "text/plain": [
       "[0,\n",
       " 1,\n",
       " 2,\n",
       " 3,\n",
       " 4,\n",
       " 5,\n",
       " 6,\n",
       " 7,\n",
       " 8,\n",
       " 9,\n",
       " 10,\n",
       " 11,\n",
       " 12,\n",
       " 13,\n",
       " 14,\n",
       " 15,\n",
       " 16,\n",
       " 17,\n",
       " 18,\n",
       " 19,\n",
       " 20,\n",
       " 21,\n",
       " 22,\n",
       " 23,\n",
       " 24]"
      ]
     },
     "execution_count": 150,
     "metadata": {},
     "output_type": "execute_result"
    }
   ],
   "source": [
    "l3"
   ]
  },
  {
   "cell_type": "code",
   "execution_count": 180,
   "id": "2448ca46-a9bb-42d3-9a43-1aa0ccee6142",
   "metadata": {},
   "outputs": [],
   "source": [
    "def testl3(l3):\n",
    "    l5=[]\n",
    "    for i in l3:\n",
    "        if i%2==0:\n",
    "            yield i\n",
    "            l5.append(i)\n",
    "    return l5        \n",
    "        \n",
    "        "
   ]
  },
  {
   "cell_type": "code",
   "execution_count": 181,
   "id": "e2134218-c4da-474d-a6e5-c3a50bb3c0e6",
   "metadata": {},
   "outputs": [
    {
     "data": {
      "text/plain": [
       "<generator object testl3 at 0x7efe30312810>"
      ]
     },
     "execution_count": 181,
     "metadata": {},
     "output_type": "execute_result"
    }
   ],
   "source": [
    "testl3(l3)"
   ]
  },
  {
   "cell_type": "code",
   "execution_count": 185,
   "id": "78c7bafc-286c-4277-a380-89f151a4eaec",
   "metadata": {},
   "outputs": [
    {
     "name": "stdout",
     "output_type": "stream",
     "text": [
      "0\n",
      "2\n",
      "4\n",
      "6\n",
      "8\n",
      "10\n",
      "12\n",
      "14\n",
      "16\n",
      "18\n",
      "20\n",
      "22\n",
      "24\n"
     ]
    }
   ],
   "source": [
    "for i in testl3(l3):\n",
    "    print(i)"
   ]
  },
  {
   "cell_type": "code",
   "execution_count": 4,
   "id": "f9bd0e2c-3568-4613-805a-9689ddecd980",
   "metadata": {},
   "outputs": [
    {
     "name": "stdout",
     "output_type": "stream",
     "text": [
      "2\n",
      "3\n",
      "5\n",
      "7\n",
      "11\n",
      "13\n",
      "17\n",
      "19\n",
      "23\n",
      "29\n",
      "31\n",
      "37\n",
      "41\n",
      "43\n",
      "47\n",
      "53\n",
      "59\n",
      "61\n",
      "67\n",
      "71\n"
     ]
    }
   ],
   "source": [
    "# Q5. Create a generator function for prime numbers less than 1000. Use the next() method to print the\n",
    "# first 20 prime numbers.\n",
    "\n",
    "def isPrime(num):\n",
    "    for i in range(2,num):\n",
    "        if num%i==0:\n",
    "            return False\n",
    "    return True\n",
    "\n",
    "def prime_generator(n=1000):\n",
    "    num=2\n",
    "    while num<n:\n",
    "        if isPrime(num):\n",
    "            yield num\n",
    "        num=num+1    \n",
    "    return   \n",
    "\n",
    "PrimeGen=prime_generator(n=1000)\n",
    "\n",
    "for g in range(20):\n",
    "    print (next(PrimeGen))\n",
    "    \n",
    "\n"
   ]
  },
  {
   "cell_type": "code",
   "execution_count": 5,
   "id": "1754da39-ebb0-4d24-9835-af4ca1b718fa",
   "metadata": {},
   "outputs": [],
   "source": [
    "# Q6. Write a python program to print the first 10 Fibonacci numbers using a while loop.\n",
    "\n",
    "def Test_Fib():\n",
    "    a,b=0,1\n",
    "    while True:\n",
    "        yield a\n",
    "        a,b=b,b+a"
   ]
  },
  {
   "cell_type": "code",
   "execution_count": 6,
   "id": "0defdd9e-529b-494d-ac6f-e23851cc9d83",
   "metadata": {},
   "outputs": [],
   "source": [
    "fib=Test_Fib()"
   ]
  },
  {
   "cell_type": "code",
   "execution_count": 7,
   "id": "1270cd5c-9a5a-44a8-a98b-6b352f27523d",
   "metadata": {},
   "outputs": [
    {
     "name": "stdout",
     "output_type": "stream",
     "text": [
      "0\n",
      "1\n",
      "1\n",
      "2\n",
      "3\n",
      "5\n",
      "8\n",
      "13\n",
      "21\n",
      "34\n"
     ]
    }
   ],
   "source": [
    "for i in range(10):\n",
    "    print (next(fib))"
   ]
  },
  {
   "cell_type": "code",
   "execution_count": 11,
   "id": "5693a1b2-d24c-4483-abd4-bb6b853463d5",
   "metadata": {},
   "outputs": [],
   "source": [
    "# Q7. Write a List Comprehension to iterate through the given string: ‘pwskills’.\n",
    "# Expected output: ['p', 'w', 's', 'k', 'i', 'l', 'l', 's'].\n",
    "\n",
    "s=\"pwskills\"\n",
    "\n",
    "def iterate(s):\n",
    "    for i in s:\n",
    "        return (i)"
   ]
  },
  {
   "cell_type": "code",
   "execution_count": 12,
   "id": "03596d4a-139f-4773-9aa6-1e1d105a955f",
   "metadata": {},
   "outputs": [
    {
     "data": {
      "text/plain": [
       "['p', 'w', 's', 'k', 'i', 'l', 'l', 's']"
      ]
     },
     "execution_count": 12,
     "metadata": {},
     "output_type": "execute_result"
    }
   ],
   "source": [
    "list(map(iterate,s))"
   ]
  },
  {
   "cell_type": "code",
   "execution_count": 15,
   "id": "8098d10e-ed77-4183-bd23-34dbc8025608",
   "metadata": {},
   "outputs": [
    {
     "name": "stdin",
     "output_type": "stream",
     "text": [
      " 123321\n"
     ]
    },
    {
     "name": "stdout",
     "output_type": "stream",
     "text": [
      "palindrome\n"
     ]
    }
   ],
   "source": [
    "# Q8. Write a python program to check whether a given number is Palindrome or not using a while loop.\n",
    "\n",
    "num=int(input())\n",
    "temp=num\n",
    "reverse=0\n",
    "while(temp>0):\n",
    "    remainder=temp%10\n",
    "    temp=temp//10\n",
    "    \n",
    "    reverse=reverse*10+remainder\n",
    "\n",
    "if num==reverse:\n",
    "    print(\"palindrome\")\n",
    "else :\n",
    "    print(\"not palindrome\")\n",
    "    "
   ]
  },
  {
   "cell_type": "code",
   "execution_count": 16,
   "id": "390ccc1a-53c7-43ec-91fe-a8abb8c45041",
   "metadata": {},
   "outputs": [],
   "source": [
    "# Q9. Write a code to print odd numbers from 1 to 100 using list comprehension.\n",
    "\n",
    "lA=list(range(1,101))"
   ]
  },
  {
   "cell_type": "code",
   "execution_count": 17,
   "id": "777be45d-84e3-4029-8bc9-1b5ae93fafce",
   "metadata": {},
   "outputs": [
    {
     "data": {
      "text/plain": [
       "[1,\n",
       " 3,\n",
       " 5,\n",
       " 7,\n",
       " 9,\n",
       " 11,\n",
       " 13,\n",
       " 15,\n",
       " 17,\n",
       " 19,\n",
       " 21,\n",
       " 23,\n",
       " 25,\n",
       " 27,\n",
       " 29,\n",
       " 31,\n",
       " 33,\n",
       " 35,\n",
       " 37,\n",
       " 39,\n",
       " 41,\n",
       " 43,\n",
       " 45,\n",
       " 47,\n",
       " 49,\n",
       " 51,\n",
       " 53,\n",
       " 55,\n",
       " 57,\n",
       " 59,\n",
       " 61,\n",
       " 63,\n",
       " 65,\n",
       " 67,\n",
       " 69,\n",
       " 71,\n",
       " 73,\n",
       " 75,\n",
       " 77,\n",
       " 79,\n",
       " 81,\n",
       " 83,\n",
       " 85,\n",
       " 87,\n",
       " 89,\n",
       " 91,\n",
       " 93,\n",
       " 95,\n",
       " 97,\n",
       " 99]"
      ]
     },
     "execution_count": 17,
     "metadata": {},
     "output_type": "execute_result"
    }
   ],
   "source": [
    "list(filter(lambda x:x%2!=0,lA))"
   ]
  },
  {
   "cell_type": "code",
   "execution_count": null,
   "id": "ac34933c-00f4-48cd-a144-794d3bdc93a6",
   "metadata": {},
   "outputs": [],
   "source": []
  }
 ],
 "metadata": {
  "kernelspec": {
   "display_name": "Python 3 (ipykernel)",
   "language": "python",
   "name": "python3"
  },
  "language_info": {
   "codemirror_mode": {
    "name": "ipython",
    "version": 3
   },
   "file_extension": ".py",
   "mimetype": "text/x-python",
   "name": "python",
   "nbconvert_exporter": "python",
   "pygments_lexer": "ipython3",
   "version": "3.10.8"
  }
 },
 "nbformat": 4,
 "nbformat_minor": 5
}
