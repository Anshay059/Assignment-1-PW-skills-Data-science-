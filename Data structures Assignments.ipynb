{
 "cells": [
  {
   "cell_type": "code",
   "execution_count": 1,
   "id": "89e4168d-5f8a-42bc-bc2f-0b53a7737548",
   "metadata": {},
   "outputs": [
    {
     "data": {
      "text/plain": [
       "' And if We want to write comments in paragraphs or in multiple lines,\\nfor example : I am Anshay Sagar and I am learning Data Science from PWskills.\\nAnd One day, I will become a good data scientist. '"
      ]
     },
     "execution_count": 1,
     "metadata": {},
     "output_type": "execute_result"
    }
   ],
   "source": [
    "#Q1. How do you comment code in Python? What are the different types of comments?\n",
    "\n",
    "# We write comments using \"#\" in the beginning of each line .\n",
    "\n",
    "\"\"\" And if We want to write comments in paragraphs or in multiple lines,\n",
    "for example : I am Anshay Sagar and I am learning Data Science from PWskills.\n",
    "And One day, I will become a good data scientist. \"\"\""
   ]
  },
  {
   "cell_type": "code",
   "execution_count": 38,
   "id": "f8491ba2-17f7-468f-a835-828a893a94ca",
   "metadata": {},
   "outputs": [
    {
     "data": {
      "text/plain": [
       "int"
      ]
     },
     "execution_count": 38,
     "metadata": {},
     "output_type": "execute_result"
    }
   ],
   "source": [
    "#Q2. What are variables in Python? How do you declare and assign values to variables?\n",
    "\n",
    "\"\"\" Variables are just like memory spaces and certainly acts like that where we store values in form of any thing like integer value, float value, \n",
    "strings, etc.\"\"\"\n",
    "\n",
    "# for example : \n",
    "\n",
    "Age=33\n",
    "type(Age)\n"
   ]
  },
  {
   "cell_type": "code",
   "execution_count": 6,
   "id": "22ddd278-d2ac-4173-a62b-0b91b8715dd6",
   "metadata": {},
   "outputs": [
    {
     "data": {
      "text/plain": [
       "'Anshay'"
      ]
     },
     "execution_count": 6,
     "metadata": {},
     "output_type": "execute_result"
    }
   ],
   "source": [
    "Name='Anshay'\n",
    "Name"
   ]
  },
  {
   "cell_type": "code",
   "execution_count": 7,
   "id": "62bfd40f-5d57-4e58-a378-d37f6d4c1262",
   "metadata": {},
   "outputs": [
    {
     "data": {
      "text/plain": [
       "str"
      ]
     },
     "execution_count": 7,
     "metadata": {},
     "output_type": "execute_result"
    }
   ],
   "source": [
    "type(Name)"
   ]
  },
  {
   "cell_type": "code",
   "execution_count": 8,
   "id": "1d48f6bc-0530-47aa-88b6-c0e7e4de6da2",
   "metadata": {},
   "outputs": [
    {
     "data": {
      "text/plain": [
       "23.59"
      ]
     },
     "execution_count": 8,
     "metadata": {},
     "output_type": "execute_result"
    }
   ],
   "source": [
    "flo=23.59\n",
    "flo"
   ]
  },
  {
   "cell_type": "code",
   "execution_count": 9,
   "id": "90d0e154-0fe8-469e-8ac7-b90829d887f8",
   "metadata": {},
   "outputs": [
    {
     "data": {
      "text/plain": [
       "float"
      ]
     },
     "execution_count": 9,
     "metadata": {},
     "output_type": "execute_result"
    }
   ],
   "source": [
    "type(flo)"
   ]
  },
  {
   "cell_type": "code",
   "execution_count": 25,
   "id": "114b5d3b-4b45-4379-97e6-aa1a53c805fb",
   "metadata": {},
   "outputs": [],
   "source": [
    "#Q3. How do you convert one data type to another in Python?\n",
    "\n",
    "# We can convert one data type to another by type casting. For example : \n",
    "\n",
    "a=22"
   ]
  },
  {
   "cell_type": "code",
   "execution_count": 29,
   "id": "b8dccd9f-86c8-4416-a184-f53de3629e57",
   "metadata": {},
   "outputs": [
    {
     "data": {
      "text/plain": [
       "int"
      ]
     },
     "execution_count": 29,
     "metadata": {},
     "output_type": "execute_result"
    }
   ],
   "source": [
    "type(a)"
   ]
  },
  {
   "cell_type": "code",
   "execution_count": 30,
   "id": "dfa1c8ec-8f9b-40cb-942c-5a7ad7161c85",
   "metadata": {},
   "outputs": [
    {
     "data": {
      "text/plain": [
       "22"
      ]
     },
     "execution_count": 30,
     "metadata": {},
     "output_type": "execute_result"
    }
   ],
   "source": [
    "a"
   ]
  },
  {
   "cell_type": "code",
   "execution_count": 32,
   "id": "0e9cd13d-d5b2-4d06-af54-cfb66cdfd939",
   "metadata": {},
   "outputs": [],
   "source": [
    "b=float(a)"
   ]
  },
  {
   "cell_type": "code",
   "execution_count": 33,
   "id": "52b54359-5c34-4484-9a28-32aa06aee613",
   "metadata": {},
   "outputs": [
    {
     "data": {
      "text/plain": [
       "22.0"
      ]
     },
     "execution_count": 33,
     "metadata": {},
     "output_type": "execute_result"
    }
   ],
   "source": [
    "b"
   ]
  },
  {
   "cell_type": "code",
   "execution_count": 34,
   "id": "d0d3cdce-d335-4840-9788-ecbe3ed37e83",
   "metadata": {},
   "outputs": [
    {
     "data": {
      "text/plain": [
       "float"
      ]
     },
     "execution_count": 34,
     "metadata": {},
     "output_type": "execute_result"
    }
   ],
   "source": [
    "type(b)"
   ]
  },
  {
   "cell_type": "code",
   "execution_count": 45,
   "id": "3925cb26-c91a-4296-9636-19082f293378",
   "metadata": {},
   "outputs": [],
   "source": [
    "# Q4. How do you write and execute a Python script from the command line?\n",
    "\n",
    "# The most basic and easy way to run a Python script is by using the python command. \n",
    "# We need to open a command line and type the word python followed by the path to your script file."
   ]
  },
  {
   "cell_type": "code",
   "execution_count": 46,
   "id": "bc655215-a849-4da3-8b0c-fe789ba0513b",
   "metadata": {},
   "outputs": [
    {
     "data": {
      "text/plain": [
       "[2, 3]"
      ]
     },
     "execution_count": 46,
     "metadata": {},
     "output_type": "execute_result"
    }
   ],
   "source": [
    "#Q5. Given a list my_list = [1, 2, 3, 4, 5], write the code to slice the list and obtain the sub-list [2, 3].\n",
    "\n",
    "my_list = [1, 2, 3, 4, 5]\n",
    "my_list[1:3]"
   ]
  },
  {
   "cell_type": "code",
   "execution_count": 48,
   "id": "b15152b2-c5ba-4559-bc61-6a555a391360",
   "metadata": {},
   "outputs": [
    {
     "data": {
      "text/plain": [
       "complex"
      ]
     },
     "execution_count": 48,
     "metadata": {},
     "output_type": "execute_result"
    }
   ],
   "source": [
    "# Q6. What is a complex number in mathematics, and how is it represented in Python?\n",
    "\n",
    "# The numbers that are expressed in the form of a+ib where, a,b are real numbers and 'i' is an imaginary number called “iota.\n",
    "# In python, all is same but we represent iota with \"j\" only. For example : \n",
    "\n",
    "Complex=(2+3j)\n",
    "type(Complex)"
   ]
  },
  {
   "cell_type": "code",
   "execution_count": 49,
   "id": "4b03d07e-742a-4e99-afc5-79fd596bbd1c",
   "metadata": {},
   "outputs": [],
   "source": [
    "# Q7. What is the correct way to declare a variable named age and assign the value 25 to it?\n",
    "\n",
    "age=int(25)"
   ]
  },
  {
   "cell_type": "code",
   "execution_count": 50,
   "id": "3b7164e0-424d-4e63-b741-959db88c17fe",
   "metadata": {},
   "outputs": [
    {
     "data": {
      "text/plain": [
       "25"
      ]
     },
     "execution_count": 50,
     "metadata": {},
     "output_type": "execute_result"
    }
   ],
   "source": [
    "age"
   ]
  },
  {
   "cell_type": "code",
   "execution_count": 51,
   "id": "5fa9c2f7-b198-4db8-b6fc-050b2dd02625",
   "metadata": {},
   "outputs": [],
   "source": [
    "# Q8. Declare a variable named price and assign the value 9.99 to it. What data type does this variable\n",
    "# belong to?\n",
    "\n",
    "price=9.99"
   ]
  },
  {
   "cell_type": "code",
   "execution_count": 52,
   "id": "87619933-b353-4a3e-9332-bb6eebfa8327",
   "metadata": {},
   "outputs": [
    {
     "data": {
      "text/plain": [
       "float"
      ]
     },
     "execution_count": 52,
     "metadata": {},
     "output_type": "execute_result"
    }
   ],
   "source": [
    "type(price)"
   ]
  },
  {
   "cell_type": "code",
   "execution_count": 53,
   "id": "3b4c39e6-cd94-484c-a532-fcf322990842",
   "metadata": {},
   "outputs": [],
   "source": [
    "# Q9. Create a variable named name and assign your full name to it as a string. How would you print the\n",
    "# value of this variable?\n",
    "\n",
    "name=\"Anshay Sagar\""
   ]
  },
  {
   "cell_type": "code",
   "execution_count": 54,
   "id": "86c39312-78c0-4a91-a488-5cfc8f1ffc0a",
   "metadata": {},
   "outputs": [
    {
     "data": {
      "text/plain": [
       "'Anshay Sagar'"
      ]
     },
     "execution_count": 54,
     "metadata": {},
     "output_type": "execute_result"
    }
   ],
   "source": [
    "name"
   ]
  },
  {
   "cell_type": "code",
   "execution_count": 55,
   "id": "57cb9176-0e55-4853-aff3-4f9db1607ea9",
   "metadata": {},
   "outputs": [],
   "source": [
    "# Q10. Given the string \"Hello, World!\", extract the substring \"World\".\n",
    "\n",
    "s= \"Hello, World\""
   ]
  },
  {
   "cell_type": "code",
   "execution_count": 56,
   "id": "cd6bdad4-3c20-4590-8d7a-d9655d26f99b",
   "metadata": {},
   "outputs": [
    {
     "data": {
      "text/plain": [
       "'World'"
      ]
     },
     "execution_count": 56,
     "metadata": {},
     "output_type": "execute_result"
    }
   ],
   "source": [
    "s[7::]"
   ]
  },
  {
   "cell_type": "code",
   "execution_count": 66,
   "id": "a8c52fa5-083d-4bb0-a423-515c22687f0a",
   "metadata": {},
   "outputs": [
    {
     "data": {
      "text/plain": [
       "True"
      ]
     },
     "execution_count": 66,
     "metadata": {},
     "output_type": "execute_result"
    }
   ],
   "source": [
    "# Q11. Create a variable named \"is_student\" and assign it a boolean value indicating whether you are\n",
    "# currently a student or not.\n",
    "\n",
    "is_student=True\n",
    "is_student\n",
    "    "
   ]
  },
  {
   "cell_type": "code",
   "execution_count": null,
   "id": "b302089c-e82f-4931-965d-408f326e0fe1",
   "metadata": {},
   "outputs": [],
   "source": []
  }
 ],
 "metadata": {
  "kernelspec": {
   "display_name": "Python 3 (ipykernel)",
   "language": "python",
   "name": "python3"
  },
  "language_info": {
   "codemirror_mode": {
    "name": "ipython",
    "version": 3
   },
   "file_extension": ".py",
   "mimetype": "text/x-python",
   "name": "python",
   "nbconvert_exporter": "python",
   "pygments_lexer": "ipython3",
   "version": "3.10.8"
  }
 },
 "nbformat": 4,
 "nbformat_minor": 5
}
