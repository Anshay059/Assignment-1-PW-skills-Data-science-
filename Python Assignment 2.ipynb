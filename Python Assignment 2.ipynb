{
 "cells": [
  {
   "cell_type": "code",
   "execution_count": 1,
   "id": "74fb49f5-f8d4-4c5c-895d-7175ddcfec2f",
   "metadata": {},
   "outputs": [
    {
     "data": {
      "text/plain": [
       "\" Q1. Create a python program to sort the given list of tuples based on integer value using a\\nlambda function.\\n[('Sachin Tendulkar', 34357), ('Ricky Ponting', 27483), ('Jack Kallis', 25534), ('Virat Kohli', 24936)] \""
      ]
     },
     "execution_count": 1,
     "metadata": {},
     "output_type": "execute_result"
    }
   ],
   "source": [
    "\"\"\" Q1. Create a python program to sort the given list of tuples based on integer value using a\n",
    "lambda function.\n",
    "[('Sachin Tendulkar', 34357), ('Ricky Ponting', 27483), ('Jack Kallis', 25534), ('Virat Kohli', 24936)] \"\"\""
   ]
  },
  {
   "cell_type": "code",
   "execution_count": 5,
   "id": "20ddc53f-d062-43c4-91ea-27f806802eb7",
   "metadata": {},
   "outputs": [
    {
     "name": "stdout",
     "output_type": "stream",
     "text": [
      "('Virat Kohli', 24936)\n",
      "('Jack Kallis', 25534)\n",
      "('Ricky Ponting', 27483)\n",
      "('Sachin Tendulkar', 34357)\n"
     ]
    }
   ],
   "source": [
    "L1= [('Sachin Tendulkar', 34357), ('Ricky Ponting', 27483), ('Jack Kallis', 25534), ('Virat Kohli', 24936)]\n",
    "\n",
    "sorted_L1 = sorted(L1, key=lambda n: n[1])\n",
    "\n",
    "for i in sorted_L1:\n",
    "    print(i)\n"
   ]
  },
  {
   "cell_type": "code",
   "execution_count": 6,
   "id": "e00b9c1f-78e4-43c9-8da5-73cd5e2ad515",
   "metadata": {},
   "outputs": [
    {
     "data": {
      "text/plain": [
       "[1, 4, 9, 16, 25, 36, 49, 64, 81, 100]"
      ]
     },
     "execution_count": 6,
     "metadata": {},
     "output_type": "execute_result"
    }
   ],
   "source": [
    "\"\"\" Q2. Write a Python Program to find the squares of all the numbers in the given list of integers using\n",
    "lambda and map functions.\n",
    "[1, 2, 3, 4, 5, 6, 7, 8, 9, 10] \"\"\"\n",
    "\n",
    "L2= [1, 2, 3, 4, 5, 6, 7, 8, 9, 10] \n",
    "\n",
    "list(map(lambda x : x**2, L2))"
   ]
  },
  {
   "cell_type": "code",
   "execution_count": 7,
   "id": "661dcdf7-0b82-4ccd-a963-c142cf67da59",
   "metadata": {},
   "outputs": [
    {
     "data": {
      "text/plain": [
       "('1', '2', '3', '4', '5', '6', '7', '8', '9', '10')"
      ]
     },
     "execution_count": 7,
     "metadata": {},
     "output_type": "execute_result"
    }
   ],
   "source": [
    "\"\"\" Q3. Write a python program to convert the given list of integers into a tuple of strings. Use map and\n",
    "lambda functions\n",
    "Given String: [1, 2, 3, 4, 5, 6, 7, 8, 9, 10]\n",
    "Expected output: ('1', '2', '3', '4', '5', '6', '7', '8', '9', '10') \"\"\"\n",
    "\n",
    "L3= [1, 2, 3, 4, 5, 6, 7, 8, 9, 10]\n",
    "\n",
    "tuple(map(lambda x:str(x), L3))"
   ]
  },
  {
   "cell_type": "code",
   "execution_count": 8,
   "id": "349bb893-9564-479c-984b-19a90d10363a",
   "metadata": {},
   "outputs": [],
   "source": [
    "\"\"\" Q4. Write a python program using reduce function to compute the product of a list containing numbers\n",
    "from 1 to 25. \"\"\"\n",
    "\n",
    "from functools import reduce"
   ]
  },
  {
   "cell_type": "code",
   "execution_count": 9,
   "id": "346313a2-0d6b-460f-999b-bcc4c38a5ae5",
   "metadata": {},
   "outputs": [],
   "source": [
    "L4=list(range(1,26))"
   ]
  },
  {
   "cell_type": "code",
   "execution_count": 12,
   "id": "3e877d86-b2db-492a-9109-9ca4720b3fe2",
   "metadata": {},
   "outputs": [
    {
     "data": {
      "text/plain": [
       "15511210043330985984000000"
      ]
     },
     "execution_count": 12,
     "metadata": {},
     "output_type": "execute_result"
    }
   ],
   "source": [
    "reduce(lambda x,y:x*y,L4)"
   ]
  },
  {
   "cell_type": "code",
   "execution_count": 13,
   "id": "b2eac734-15f2-4657-8e6f-28f07d218462",
   "metadata": {},
   "outputs": [
    {
     "data": {
      "text/plain": [
       "[6, 60, 90, 120]"
      ]
     },
     "execution_count": 13,
     "metadata": {},
     "output_type": "execute_result"
    }
   ],
   "source": [
    "\"\"\" Q5. Write a python program to filter the numbers in a given list that are divisible by 2 and 3 using the\n",
    "filter function. \"\"\"\n",
    "\n",
    "L5=[2, 3, 6, 9, 27, 60, 90, 120, 55, 46]\n",
    "\n",
    "list(filter(lambda x : x%2==0 and x%3==0, L5))"
   ]
  },
  {
   "cell_type": "code",
   "execution_count": 18,
   "id": "26332065-db58-4491-8e48-5ed49a774b8a",
   "metadata": {},
   "outputs": [
    {
     "data": {
      "text/plain": [
       "['php', 'aba', 'radar', 'level']"
      ]
     },
     "execution_count": 18,
     "metadata": {},
     "output_type": "execute_result"
    }
   ],
   "source": [
    "\"\"\" Q6. Write a python program to find palindromes in the given list of strings using lambda and filter\n",
    "function.\n",
    "['python', 'php', 'aba', 'radar', 'level'] \"\"\"\n",
    "\n",
    "L6=['python', 'php', 'aba', 'radar', 'level']\n",
    "\n",
    "list(filter(lambda x: x[::1]==x[::-1],L6))"
   ]
  },
  {
   "cell_type": "code",
   "execution_count": null,
   "id": "cd58ce25-5278-4e1c-a51c-a5055b815415",
   "metadata": {},
   "outputs": [],
   "source": []
  }
 ],
 "metadata": {
  "kernelspec": {
   "display_name": "Python 3 (ipykernel)",
   "language": "python",
   "name": "python3"
  },
  "language_info": {
   "codemirror_mode": {
    "name": "ipython",
    "version": 3
   },
   "file_extension": ".py",
   "mimetype": "text/x-python",
   "name": "python",
   "nbconvert_exporter": "python",
   "pygments_lexer": "ipython3",
   "version": "3.10.8"
  }
 },
 "nbformat": 4,
 "nbformat_minor": 5
}
